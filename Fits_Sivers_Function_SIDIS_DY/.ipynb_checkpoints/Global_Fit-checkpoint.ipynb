{
 "cells": [
  {
   "cell_type": "code",
   "execution_count": 1,
   "metadata": {},
   "outputs": [],
   "source": [
    "import lhapdf\n",
    "import pandas as pd\n",
    "import numpy as np\n",
    "import matplotlib.pyplot as plt\n",
    "import scipy.optimize as opt\n",
    "from Global_Constants import *\n",
    "from Sivers_SIDIS_Definitions import *\n",
    "from Sivers_DY_Definitions import *\n",
    "\n",
    "from iminuit import Minuit\n",
    "import numpy as np\n",
    "#import tabulate as tab"
   ]
  },
  {
   "cell_type": "code",
   "execution_count": null,
   "metadata": {},
   "outputs": [
    {
     "name": "stderr",
     "output_type": "stream",
     "text": [
      "<ipython-input-2-eb6d1f375c85>:47: InitialParamWarning: errordef is not given, defaults to 1.\n",
      "  m = Minuit(totalchi2Minuit,m1=M1_t2,Nu=NU_t2,alphau=AlphaU_t2,betau=BetaU_t2,Nubar=NUbar_t2,Nd=ND_t2,alphad=AlphaD_t2,betad=BetaD_t2,Ndbar=NDbar_t2,Ns=NS_t2,alphas=AlphaS_t2,betas=BetaS_t2,Nsbar=NSbar_t2)\n"
     ]
    }
   ],
   "source": [
    "#######################################################\n",
    "############# This is the chi2 for SIDIS ##############\n",
    "#######################################################\n",
    "\n",
    "def SIDIStotalchi2Minuit(m1,Nu,alphau,betau,Nubar,Nd,alphad,betad,Ndbar,Ns,alphas,betas,Nsbar):\n",
    "    datfilesarray=SIDIS_DataFilesArray\n",
    "    datfilesnum=len(datfilesarray)\n",
    "    temptotal=[]\n",
    "    temptotaldata=[]\n",
    "    temptotalerr=[]\n",
    "    for i in range(0,datfilesnum):\n",
    "        temptotal.append(totalfitDataSet(datfilesarray[i],m1,Nu,alphau,betau,Nubar,Nd,alphad,betad,Ndbar,Ns,alphas,betas,Nsbar))\n",
    "        temptotaldata.append(np.concatenate(ASiv_Val(datfilesarray[i])))\n",
    "        temptotalerr.append(np.concatenate(ASiv_Err(datfilesarray[i])))\n",
    "    tempTheory=np.concatenate((temptotal))\n",
    "    tempY=np.concatenate((temptotaldata))\n",
    "    tempYErr=np.concatenate((temptotalerr))\n",
    "    tempChi2=np.sum(((tempY-tempTheory)/tempYErr)**2)\n",
    "    return tempChi2\n",
    "\n",
    "#######################################################\n",
    "############# This is the chi2 for DY #################\n",
    "#######################################################\n",
    "\n",
    "def DYtotalchi2Minuit(m1,Nu,alphau,betau,Nubar,Nd,alphad,betad,Ndbar,Ns,alphas,betas,Nsbar):\n",
    "    DY_datfilesarray=DY_DataFilesArray\n",
    "    DY_datfilesnum=len(DY_datfilesarray)\n",
    "    temptotal=[]\n",
    "    for i in range(0,DY_datfilesnum):\n",
    "        temptotal.append(DYtotalfitDataSets(DY_datfilesarray,m1=m1,Nu=Nu,alphau=alphau,betau=betau,Nubar=Nubar,Nd=Nd,alphad=alphad,betad=betad,Ndbar=Ndbar,Ns=Ns,alphas=alphas,betas=betas,Nsbar=Nsbar))\n",
    "    tempTheory=np.concatenate((temptotal), axis=None)\n",
    "    tempY=DYSiversVals(DY_datfilesarray)\n",
    "    tempYErr=DYSiversErrVals(DY_datfilesarray)\n",
    "    tempChi2=np.sum(((tempY-tempTheory)/tempYErr)**2)\n",
    "    return tempChi2\n",
    "\n",
    "\n",
    "def totalchi2Minuit(m1,Nu,alphau,betau,Nubar,Nd,alphad,betad,Ndbar,Ns,alphas,betas,Nsbar):\n",
    "    tempchi2=SIDIStotalchi2Minuit(m1=m1,Nu=Nu,alphau=alphau,betau=betau,Nubar=Nubar,Nd=Nd,alphad=alphad,betad=betad,Ndbar=Ndbar,Ns=Ns,alphas=alphas,betas=betas,Nsbar=Nsbar)+ DYtotalchi2Minuit(m1=m1,Nu=Nu,alphau=alphau,betau=betau,Nubar=Nubar,Nd=Nd,alphad=alphad,betad=betad,Ndbar=Ndbar,Ns=Ns,alphas=alphas,betas=betas,Nsbar=Nsbar)\n",
    "    return tempchi2\n",
    "\n",
    "m = Minuit(totalchi2Minuit,m1=M1_t2,Nu=NU_t2,alphau=AlphaU_t2,betau=BetaU_t2,Nubar=NUbar_t2,Nd=ND_t2,alphad=AlphaD_t2,betad=BetaD_t2,Ndbar=NDbar_t2,Ns=NS_t2,alphas=AlphaS_t2,betas=BetaS_t2,Nsbar=NSbar_t2)\n",
    "m.migrad()"
   ]
  },
  {
   "cell_type": "code",
   "execution_count": null,
   "metadata": {},
   "outputs": [],
   "source": [
    "f = open(\"Global_Fit_Sivers_SIDIS_DY.txt\",\"w\")\n",
    "for i in range(1):\n",
    "    f.write(str(m.values))\n",
    "    f.write(\"\\n\")\n",
    "    f.write(str(m.errors))\n",
    "    f.write(\"\\n\")\n",
    "    f.write(str(m.params))\n",
    "    f.write(\"\\n\")\n",
    "    f.write(str(m.covariance))\n",
    "    f.write(\"\\n\")\n",
    "    f.write(str(m.fmin))\n",
    "f.close()\n",
    "\n",
    "\n",
    "with open(\"Global_Fit_Sivers_SIDIS_DY_Parameters.txt\", \"w\") as f2:\n",
    "    f2.write(tab.tabulate(*m.params.to_table()))"
   ]
  }
 ],
 "metadata": {
  "kernelspec": {
   "display_name": "Python 3",
   "language": "python",
   "name": "python3"
  },
  "language_info": {
   "codemirror_mode": {
    "name": "ipython",
    "version": 3
   },
   "file_extension": ".py",
   "mimetype": "text/x-python",
   "name": "python",
   "nbconvert_exporter": "python",
   "pygments_lexer": "ipython3",
   "version": "3.8.10"
  }
 },
 "nbformat": 4,
 "nbformat_minor": 4
}
