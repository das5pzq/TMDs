{
 "cells": [
  {
   "cell_type": "code",
   "execution_count": 6,
   "metadata": {},
   "outputs": [],
   "source": [
    "import lhapdf\n",
    "import pandas as pd\n",
    "import numpy as np\n",
    "import matplotlib.pyplot as plt\n",
    "import scipy.optimize as opt\n",
    "from Global_Constants import *\n",
    "from Sivers_SIDIS_Definitions import *\n",
    "from Sivers_DY_Definitions import *\n",
    "from iminuit import Minuit"
   ]
  },
  {
   "cell_type": "code",
   "execution_count": null,
   "metadata": {},
   "outputs": [
    {
     "name": "stderr",
     "output_type": "stream",
     "text": [
      "<ipython-input-9-71547389258d>:34: InitialParamWarning: errordef is not given, defaults to 1.\n",
      "  m = Minuit(totalchi2Minuit,m1=M1_t2,Nu=NU_t2,alphau=AlphaU_t2,betau=BetaU_t2,Nubar=NUbar_t2,Nd=ND_t2,alphad=AlphaD_t2,betad=BetaD_t2,Ndbar=NDbar_t2,Ns=NS_t2,alphas=AlphaS_t2,betas=BetaS_t2,Nsbar=NSbar_t2)\n"
     ]
    }
   ],
   "source": [
    "def SIDIStotalchi2Minuit(m1,Nu,alphau,betau,Nubar,Nd,alphad,betad,Ndbar,Ns,alphas,betas,Nsbar):\n",
    "    datfilesarray=SIDIS_DataFilesArray\n",
    "    datfilesnum=len(datfilesarray)\n",
    "    temptotal=[]\n",
    "    temptotaldata=[]\n",
    "    temptotalerr=[]\n",
    "    for i in range(0,datfilesnum):\n",
    "        temptotal.append(totalfitDataSet(datfilesarray[i],m1,Nu,alphau,betau,Nubar,Nd,alphad,betad,Ndbar,Ns,alphas,betas,Nsbar))\n",
    "        temptotaldata.append(np.concatenate(ASiv_Val(datfilesarray[i])))\n",
    "        temptotalerr.append(np.concatenate(ASiv_Err(datfilesarray[i])))\n",
    "    tempTheory=np.concatenate((temptotal))\n",
    "    tempY=np.concatenate((temptotaldata))\n",
    "    tempYErr=np.concatenate((temptotalerr))\n",
    "    tempChi2=np.sum(((tempY-tempTheory)/tempYErr)**2)\n",
    "    return tempChi2\n",
    "\n",
    "\n",
    "def DYtotalchi2Minuit(m1,Nu,alphau,betau,Nubar,Nd,alphad,betad,Ndbar,Ns,alphas,betas,Nsbar):\n",
    "    DY_datfilesarray=DY_DataFilesArray\n",
    "    DY_datfilesnum=len(DY_datfilesarray)\n",
    "    temptotal=[]\n",
    "    for i in range(0,DY_datfilesnum):\n",
    "        temptotal.append(DYtotalfitDataSet(DY_datfilesarray[i],m1=m1,Nu=Nu,alphau=alphau,betau=betau,Nubar=Nubar,Nd=Nd,alphad=alphad,betad=betad,Ndbar=Ndbar,Ns=Ns,alphas=alphas,betas=betas,Nsbar=Nsbar))\n",
    "    tempTheory=np.concatenate((temptotal), axis=None)\n",
    "    tempY=DYSiversVals(DY_datfilesarray)\n",
    "    tempYErr=DYSiversErrVals(DY_datfilesarray)\n",
    "    tempChi2=np.sum(((tempY-tempTheory)/tempYErr)**2)\n",
    "    return tempChi2\n",
    "\n",
    "def totalchi2Minuit(m1,Nu,alphau,betau,Nubar,Nd,alphad,betad,Ndbar,Ns,alphas,betas,Nsbar):\n",
    "    tempchi2=SIDIStotalchi2Minuit(m1=m1,Nu=Nu,alphau=alphau,betau=betau,Nubar=Nubar,Nd=Nd,alphad=alphad,betad=betad,Ndbar=Ndbar,Ns=Ns,alphas=alphas,betas=betas,Nsbar=Nsbar)+ DYtotalchi2Minuit(m1=m1,Nu=Nu,alphau=alphau,betau=betau,Nubar=Nubar,Nd=Nd,alphad=alphad,betad=betad,Ndbar=Ndbar,Ns=Ns,alphas=alphas,betas=betas,Nsbar=Nsbar)\n",
    "    return tempchi2\n",
    "\n",
    "m = Minuit(totalchi2Minuit,m1=M1_t2,Nu=NU_t2,alphau=AlphaU_t2,betau=BetaU_t2,Nubar=NUbar_t2,Nd=ND_t2,alphad=AlphaD_t2,betad=BetaD_t2,Ndbar=NDbar_t2,Ns=NS_t2,alphas=AlphaS_t2,betas=BetaS_t2,Nsbar=NSbar_t2)\n",
    "m.migrad()"
   ]
  },
  {
   "cell_type": "code",
   "execution_count": 8,
   "metadata": {},
   "outputs": [
    {
     "name": "stderr",
     "output_type": "stream",
     "text": [
      "<ipython-input-8-bd316bf3fcf6>:66: InitialParamWarning: errordef is not given, defaults to 1.\n",
      "  m = Minuit(totalchi2Minuit,m1=M1_t2,Nu=NU_t2,alphau=AlphaU_t2,betau=BetaU_t2,Nubar=NUbar_t2,Nd=ND_t2,alphad=AlphaD_t2,betad=BetaD_t2,Ndbar=NDbar_t2,Ns=NS_t2,alphas=AlphaS_t2,betas=BetaS_t2,Nsbar=NSbar_t2)\n"
     ]
    },
    {
     "ename": "RuntimeError",
     "evalue": "exception was raised in user function\nUser function arguments:\n        m1 = +3.730000\n        Nu = +0.435000\n    alphau = +2.450000\n     betau = +13.000000\n     Nubar = -0.120200\n        Nd = -0.890000\n    alphad = +2.080000\n     betad = +7.800000\n     Ndbar = -0.100000\n        Ns = +5.760000\n    alphas = +0.421000\n     betas = +0.052000\n     Nsbar = +0.170000\nOriginal python exception in user function:\nValueError: Invalid file path or buffer object type: <class 'numpy.ndarray'>\n  File \"<ipython-input-8-bd316bf3fcf6>\", line 63, in totalchi2Minuit\n    tempchi2=SIDIStotalchi2Minuit(m1=m1,Nu=Nu,alphau=alphau,betau=betau,Nubar=Nubar,Nd=Nd,alphad=alphad,betad=betad,Ndbar=Ndbar,Ns=Ns,alphas=alphas,betas=betas,Nsbar=Nsbar)+ DYtotalchi2Minuit(m1=m1,Nu=Nu,alphau=alphau,betau=betau,Nubar=Nubar,Nd=Nd,alphad=alphad,betad=betad,Ndbar=Ndbar,Ns=Ns,alphas=alphas,betas=betas,Nsbar=Nsbar)\n  File \"<ipython-input-8-bd316bf3fcf6>\", line 45, in DYtotalchi2Minuit\n    temptotal.append(DYtotalfitDataSet(DY_datfilesarray,m1=m1,Nu=Nu,alphau=alphau,betau=betau,Nubar=Nubar,Nd=Nd,alphad=alphad,betad=betad,Ndbar=Ndbar,Ns=Ns,alphas=alphas,betas=betas,Nsbar=Nsbar))\n  File \"/home/isharauvaubuntu/Documents/TMDs/Sivers_Extraction/SIDIS_DY_Fits_with_LHAPDF/Sivers_DY_Definitions.py\", line 233, in DYtotalfitDataSet\n    dep_len=len(Dep_array(datfile))\n  File \"/home/isharauvaubuntu/Documents/TMDs/Sivers_Extraction/SIDIS_DY_Fits_with_LHAPDF/Sivers_DY_Definitions.py\", line 162, in Dep_array\n    tempdf=pd.read_csv(filename)\n  File \"/home/isharauvaubuntu/.local/lib/python3.8/site-packages/pandas/io/parsers.py\", line 610, in read_csv\n    return _read(filepath_or_buffer, kwds)\n  File \"/home/isharauvaubuntu/.local/lib/python3.8/site-packages/pandas/io/parsers.py\", line 462, in _read\n    parser = TextFileReader(filepath_or_buffer, **kwds)\n  File \"/home/isharauvaubuntu/.local/lib/python3.8/site-packages/pandas/io/parsers.py\", line 819, in __init__\n    self._engine = self._make_engine(self.engine)\n  File \"/home/isharauvaubuntu/.local/lib/python3.8/site-packages/pandas/io/parsers.py\", line 1050, in _make_engine\n    return mapping[engine](self.f, **self.options)  # type: ignore[call-arg]\n  File \"/home/isharauvaubuntu/.local/lib/python3.8/site-packages/pandas/io/parsers.py\", line 1867, in __init__\n    self._open_handles(src, kwds)\n  File \"/home/isharauvaubuntu/.local/lib/python3.8/site-packages/pandas/io/parsers.py\", line 1362, in _open_handles\n    self.handles = get_handle(\n  File \"/home/isharauvaubuntu/.local/lib/python3.8/site-packages/pandas/io/common.py\", line 558, in get_handle\n    ioargs = _get_filepath_or_buffer(\n  File \"/home/isharauvaubuntu/.local/lib/python3.8/site-packages/pandas/io/common.py\", line 371, in _get_filepath_or_buffer\n    raise ValueError(msg)\n",
     "output_type": "error",
     "traceback": [
      "\u001b[0;31m---------------------------------------------------------------------------\u001b[0m",
      "\u001b[0;31mRuntimeError\u001b[0m                              Traceback (most recent call last)",
      "\u001b[0;32m<ipython-input-8-bd316bf3fcf6>\u001b[0m in \u001b[0;36m<module>\u001b[0;34m\u001b[0m\n\u001b[1;32m     65\u001b[0m \u001b[0;34m\u001b[0m\u001b[0m\n\u001b[1;32m     66\u001b[0m \u001b[0mm\u001b[0m \u001b[0;34m=\u001b[0m \u001b[0mMinuit\u001b[0m\u001b[0;34m(\u001b[0m\u001b[0mtotalchi2Minuit\u001b[0m\u001b[0;34m,\u001b[0m\u001b[0mm1\u001b[0m\u001b[0;34m=\u001b[0m\u001b[0mM1_t2\u001b[0m\u001b[0;34m,\u001b[0m\u001b[0mNu\u001b[0m\u001b[0;34m=\u001b[0m\u001b[0mNU_t2\u001b[0m\u001b[0;34m,\u001b[0m\u001b[0malphau\u001b[0m\u001b[0;34m=\u001b[0m\u001b[0mAlphaU_t2\u001b[0m\u001b[0;34m,\u001b[0m\u001b[0mbetau\u001b[0m\u001b[0;34m=\u001b[0m\u001b[0mBetaU_t2\u001b[0m\u001b[0;34m,\u001b[0m\u001b[0mNubar\u001b[0m\u001b[0;34m=\u001b[0m\u001b[0mNUbar_t2\u001b[0m\u001b[0;34m,\u001b[0m\u001b[0mNd\u001b[0m\u001b[0;34m=\u001b[0m\u001b[0mND_t2\u001b[0m\u001b[0;34m,\u001b[0m\u001b[0malphad\u001b[0m\u001b[0;34m=\u001b[0m\u001b[0mAlphaD_t2\u001b[0m\u001b[0;34m,\u001b[0m\u001b[0mbetad\u001b[0m\u001b[0;34m=\u001b[0m\u001b[0mBetaD_t2\u001b[0m\u001b[0;34m,\u001b[0m\u001b[0mNdbar\u001b[0m\u001b[0;34m=\u001b[0m\u001b[0mNDbar_t2\u001b[0m\u001b[0;34m,\u001b[0m\u001b[0mNs\u001b[0m\u001b[0;34m=\u001b[0m\u001b[0mNS_t2\u001b[0m\u001b[0;34m,\u001b[0m\u001b[0malphas\u001b[0m\u001b[0;34m=\u001b[0m\u001b[0mAlphaS_t2\u001b[0m\u001b[0;34m,\u001b[0m\u001b[0mbetas\u001b[0m\u001b[0;34m=\u001b[0m\u001b[0mBetaS_t2\u001b[0m\u001b[0;34m,\u001b[0m\u001b[0mNsbar\u001b[0m\u001b[0;34m=\u001b[0m\u001b[0mNSbar_t2\u001b[0m\u001b[0;34m)\u001b[0m\u001b[0;34m\u001b[0m\u001b[0;34m\u001b[0m\u001b[0m\n\u001b[0;32m---> 67\u001b[0;31m \u001b[0mm\u001b[0m\u001b[0;34m.\u001b[0m\u001b[0mmigrad\u001b[0m\u001b[0;34m(\u001b[0m\u001b[0;34m)\u001b[0m\u001b[0;34m\u001b[0m\u001b[0;34m\u001b[0m\u001b[0m\n\u001b[0m\u001b[1;32m     68\u001b[0m \u001b[0;31m#print(SIDIS_Data_points())\u001b[0m\u001b[0;34m\u001b[0m\u001b[0;34m\u001b[0m\u001b[0;34m\u001b[0m\u001b[0m\n\u001b[1;32m     69\u001b[0m \u001b[0;31m#print(DY_Data_points())\u001b[0m\u001b[0;34m\u001b[0m\u001b[0;34m\u001b[0m\u001b[0;34m\u001b[0m\u001b[0m\n",
      "\u001b[0;32msrc/iminuit/_libiminuit.pyx\u001b[0m in \u001b[0;36miminuit._libiminuit.Minuit.migrad\u001b[0;34m()\u001b[0m\n",
      "\u001b[0;31mRuntimeError\u001b[0m: exception was raised in user function\nUser function arguments:\n        m1 = +3.730000\n        Nu = +0.435000\n    alphau = +2.450000\n     betau = +13.000000\n     Nubar = -0.120200\n        Nd = -0.890000\n    alphad = +2.080000\n     betad = +7.800000\n     Ndbar = -0.100000\n        Ns = +5.760000\n    alphas = +0.421000\n     betas = +0.052000\n     Nsbar = +0.170000\nOriginal python exception in user function:\nValueError: Invalid file path or buffer object type: <class 'numpy.ndarray'>\n  File \"<ipython-input-8-bd316bf3fcf6>\", line 63, in totalchi2Minuit\n    tempchi2=SIDIStotalchi2Minuit(m1=m1,Nu=Nu,alphau=alphau,betau=betau,Nubar=Nubar,Nd=Nd,alphad=alphad,betad=betad,Ndbar=Ndbar,Ns=Ns,alphas=alphas,betas=betas,Nsbar=Nsbar)+ DYtotalchi2Minuit(m1=m1,Nu=Nu,alphau=alphau,betau=betau,Nubar=Nubar,Nd=Nd,alphad=alphad,betad=betad,Ndbar=Ndbar,Ns=Ns,alphas=alphas,betas=betas,Nsbar=Nsbar)\n  File \"<ipython-input-8-bd316bf3fcf6>\", line 45, in DYtotalchi2Minuit\n    temptotal.append(DYtotalfitDataSet(DY_datfilesarray,m1=m1,Nu=Nu,alphau=alphau,betau=betau,Nubar=Nubar,Nd=Nd,alphad=alphad,betad=betad,Ndbar=Ndbar,Ns=Ns,alphas=alphas,betas=betas,Nsbar=Nsbar))\n  File \"/home/isharauvaubuntu/Documents/TMDs/Sivers_Extraction/SIDIS_DY_Fits_with_LHAPDF/Sivers_DY_Definitions.py\", line 233, in DYtotalfitDataSet\n    dep_len=len(Dep_array(datfile))\n  File \"/home/isharauvaubuntu/Documents/TMDs/Sivers_Extraction/SIDIS_DY_Fits_with_LHAPDF/Sivers_DY_Definitions.py\", line 162, in Dep_array\n    tempdf=pd.read_csv(filename)\n  File \"/home/isharauvaubuntu/.local/lib/python3.8/site-packages/pandas/io/parsers.py\", line 610, in read_csv\n    return _read(filepath_or_buffer, kwds)\n  File \"/home/isharauvaubuntu/.local/lib/python3.8/site-packages/pandas/io/parsers.py\", line 462, in _read\n    parser = TextFileReader(filepath_or_buffer, **kwds)\n  File \"/home/isharauvaubuntu/.local/lib/python3.8/site-packages/pandas/io/parsers.py\", line 819, in __init__\n    self._engine = self._make_engine(self.engine)\n  File \"/home/isharauvaubuntu/.local/lib/python3.8/site-packages/pandas/io/parsers.py\", line 1050, in _make_engine\n    return mapping[engine](self.f, **self.options)  # type: ignore[call-arg]\n  File \"/home/isharauvaubuntu/.local/lib/python3.8/site-packages/pandas/io/parsers.py\", line 1867, in __init__\n    self._open_handles(src, kwds)\n  File \"/home/isharauvaubuntu/.local/lib/python3.8/site-packages/pandas/io/parsers.py\", line 1362, in _open_handles\n    self.handles = get_handle(\n  File \"/home/isharauvaubuntu/.local/lib/python3.8/site-packages/pandas/io/common.py\", line 558, in get_handle\n    ioargs = _get_filepath_or_buffer(\n  File \"/home/isharauvaubuntu/.local/lib/python3.8/site-packages/pandas/io/common.py\", line 371, in _get_filepath_or_buffer\n    raise ValueError(msg)\n"
     ]
    }
   ],
   "source": [
    "\n",
    "def SIDIS_Data_points():\n",
    "    datfilesarray=SIDIS_DataFilesArray\n",
    "    datfilesnum=len(datfilesarray)\n",
    "    temptotaldata=[]\n",
    "    temptotalerr=[]\n",
    "    for i in range(0,datfilesnum):\n",
    "        temptotaldata.append(np.concatenate(ASiv_Val(datfilesarray[i])))\n",
    "        temptotalerr.append(np.concatenate(ASiv_Err(datfilesarray[i])))\n",
    "    tempY=np.concatenate((temptotaldata))\n",
    "    Data_points=len(tempY)\n",
    "    #tempYErr=np.concatenate((temptotalerr))\n",
    "    return Data_points\n",
    "\n",
    "\n",
    "\n",
    "\n",
    "def DY_Data_points():\n",
    "    DY_datfilesarray=DY_DataFilesArray\n",
    "    DY_datfilesnum=len(DY_datfilesarray)\n",
    "    tempY=DYSiversVals(DY_datfilesarray)\n",
    "    DY_Data_points=len(tempY)\n",
    "    return DY_Data_points\n",
    "\n",
    "\n"
   ]
  },
  {
   "cell_type": "code",
   "execution_count": null,
   "metadata": {},
   "outputs": [],
   "source": []
  }
 ],
 "metadata": {
  "kernelspec": {
   "display_name": "Python 3",
   "language": "python",
   "name": "python3"
  },
  "language_info": {
   "codemirror_mode": {
    "name": "ipython",
    "version": 3
   },
   "file_extension": ".py",
   "mimetype": "text/x-python",
   "name": "python",
   "nbconvert_exporter": "python",
   "pygments_lexer": "ipython3",
   "version": "3.8.10"
  }
 },
 "nbformat": 4,
 "nbformat_minor": 4
}
