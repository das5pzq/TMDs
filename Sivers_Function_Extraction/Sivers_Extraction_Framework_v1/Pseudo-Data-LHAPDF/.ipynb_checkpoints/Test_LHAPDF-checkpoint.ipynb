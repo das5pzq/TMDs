{
 "cells": [
  {
   "cell_type": "code",
   "execution_count": 1,
   "metadata": {},
   "outputs": [],
   "source": [
    "from SIDIS_Generator import *"
   ]
  },
  {
   "cell_type": "code",
   "execution_count": 6,
   "metadata": {},
   "outputs": [],
   "source": [
    "test=Create_SIDIS_P_Data(Dat1,1,1,1,1,1,1,1,1,1,1,1,1,1)[\"Siv\"]"
   ]
  },
  {
   "cell_type": "code",
   "execution_count": 7,
   "metadata": {},
   "outputs": [
    {
     "data": {
      "text/plain": [
       "array([0.06859861, 0.10331682, 0.13548385, 0.16715736, 0.19387841,\n",
       "       0.20861674, 0.21355521, 0.06404549, 0.08058394, 0.09715269,\n",
       "       0.11782069, 0.14823365, 0.19124324, 0.2545022 , 0.03406138,\n",
       "       0.06660395, 0.09067192, 0.11322227, 0.15285335, 0.24851146,\n",
       "       0.55426269, 0.06741912, 0.10340779, 0.14051062, 0.1761504 ,\n",
       "       0.20169892, 0.22534095, 0.23914327, 0.07442376, 0.09540826,\n",
       "       0.11964968, 0.14114471, 0.17402539, 0.22351502, 0.30999446,\n",
       "       0.0387836 , 0.06929955, 0.09078856, 0.11160287, 0.15040823,\n",
       "       0.23819228, 0.54831452, 0.06819523, 0.10293029, 0.13508805,\n",
       "       0.1631394 , 0.18354873, 0.18881005, 0.18666108, 0.06054231,\n",
       "       0.07677935, 0.09426603, 0.11432141, 0.14560185, 0.18782095,\n",
       "       0.257654  , 0.03296916, 0.06387307, 0.08657022, 0.10690337,\n",
       "       0.14445427, 0.2374215 , 0.52542601, 0.06870491, 0.10452155,\n",
       "       0.14094672, 0.17475894, 0.20787162, 0.23337809, 0.25110233,\n",
       "       0.07659829, 0.0935903 , 0.11196523, 0.13311834, 0.16778229,\n",
       "       0.21328974, 0.28140748, 0.03664869, 0.07038161, 0.09740032,\n",
       "       0.12318928, 0.16850967, 0.26845215, 0.58975776, 0.06924514,\n",
       "       0.10280003, 0.13872188, 0.16557227, 0.18369463, 0.20002912,\n",
       "       0.21368898, 0.06603312, 0.08256594, 0.09930022, 0.12055063,\n",
       "       0.15567987, 0.19586655, 0.27008057, 0.03248647, 0.06157159,\n",
       "       0.08512463, 0.10529284, 0.14264782, 0.2314894 , 0.51391695])"
      ]
     },
     "execution_count": 7,
     "metadata": {},
     "output_type": "execute_result"
    }
   ],
   "source": [
    "np.array(test)"
   ]
  },
  {
   "cell_type": "code",
   "execution_count": 8,
   "metadata": {},
   "outputs": [],
   "source": [
    "from functions_develop import *\n",
    "\n",
    "m1v = 1\n",
    "Nuv = 1\n",
    "auv = 1\n",
    "buv = 1\n",
    "Nubv = 1\n",
    "Ndv = 1\n",
    "adv = 1\n",
    "bdv = 1\n",
    "Ndbv = 1\n",
    "Nsv = 1\n",
    "asv = 1\n",
    "bsv = 1\n",
    "Nsbv = 1\n",
    "\n",
    "\n",
    "SivPDF=functions_develop.Hadron()"
   ]
  },
  {
   "cell_type": "code",
   "execution_count": null,
   "metadata": {},
   "outputs": [],
   "source": [
    "SivPDF.pdf()"
   ]
  },
  {
   "cell_type": "code",
   "execution_count": null,
   "metadata": {},
   "outputs": [],
   "source": [
    "class Sivers_Hadron(Hadron):\n",
    "    def __init__(self, kperp2avg=.57, pperp2avg=.12, pdfset='cteq61',\n",
    "                 ff_PIp='NNFF10_PIp_nlo', ff_PIm='NNFF10_PIm_nlo', ff_PIsum='NNFF10_PIsum_nlo',\n",
    "                 ff_KAp='NNFF10_KAp_nlo', ff_KAm='NNFF10_KAm_nlo'):\n",
    "        \n",
    "        super().__init__(kperp2avg=kperp2avg, pperp2avg=pperp2avg, pdfset=pdfset)\n",
    "\n",
    "        \n",
    "    def sivers(self, had, kins, m1, Nu, au, bu, Nubar, Nd, ad, bd, Ndbar, NS, aS, bS, NSbar):\n",
    "        if had == 'pi+':\n",
    "            ii = 0\n",
    "        elif had == 'pi-':\n",
    "            ii = 1\n",
    "        elif had == 'pi0':\n",
    "            ii = 2\n",
    "        elif had == 'k+':\n",
    "            ii = 3\n",
    "        elif had == 'k-':\n",
    "            ii = 4\n",
    "        #ii=1           \n",
    "        x = kins[:, 0]\n",
    "        z = kins[:, 1]\n",
    "        pht = kins[:, 2]\n",
    "        QQ = kins[:, 3]\n",
    "        a0 = self.A0(z, pht, m1)\n",
    "        temp_top = self.NN(x, Nu, au, bu) * self.eu**2 * self.pdf(2, x, QQ) * self.ff(self.ffDict[ii],2, z, QQ)\n",
    "        + self.NNanti(x,Nubar) * self.eubar**2 * self.pdf(-2, x, QQ) * self.ff(self.ffDict[ii],-2, z, QQ)\n",
    "        + self.NN(x, Nd, ad, bd) * self.ed**2 * self.pdf(1, x, QQ) * self.ff(self.ffDict[ii],1, z, QQ)\n",
    "        + self.NNanti(x, Ndbar) * self.edbar**2 * self.pdf(-1, x, QQ) * self.ff(self.ffDict[ii],-1, z, QQ) \n",
    "        + self.NN(x, NS, aS, bS) * self.es**2 * self.pdf(3, x, QQ) * self.ff(self.ffDict[ii],3, z, QQ)\n",
    "        + self.NNanti(x, NSbar) * self.esbar**2 * self.pdf(-3, x, QQ) * self.ff(self.ffDict[ii],-3, z, QQ)\n",
    "        temp_bottom =  self.eu**2 * self.pdf(2, x, QQ) * self.ff(self.ffDict[ii],2, z, QQ)\n",
    "        + self.eubar**2 * self.pdf(-2, x, QQ) * self.ff(self.ffDict[ii],-2, z, QQ)\n",
    "        + self.ed**2 * self.pdf(1, x, QQ) * self.ff(self.ffDict[ii],1, z, QQ)\n",
    "        + self.edbar**2 * self.pdf(-1, x, QQ) * self.ff(self.ffDict[ii],-1, z, QQ)\n",
    "        + self.es**2 * self.pdf(3, x, QQ) * self.ff(self.ffDict[ii],3, z, QQ)\n",
    "        + self.esbar**2 * self.pdf(-3, x, QQ) * self.ff(self.ffDict[ii],-3, z, QQ)\n",
    "        temp_siv_had = a0*((temp_top)/(temp_bottom))\n",
    "        return temp_siv_had\n"
   ]
  }
 ],
 "metadata": {
  "kernelspec": {
   "display_name": "Python 3",
   "language": "python",
   "name": "python3"
  },
  "language_info": {
   "codemirror_mode": {
    "name": "ipython",
    "version": 3
   },
   "file_extension": ".py",
   "mimetype": "text/x-python",
   "name": "python",
   "nbconvert_exporter": "python",
   "pygments_lexer": "ipython3",
   "version": "3.8.10"
  }
 },
 "nbformat": 4,
 "nbformat_minor": 4
}
