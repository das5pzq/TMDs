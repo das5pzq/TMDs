{
 "cells": [
  {
   "cell_type": "code",
   "execution_count": 1,
   "metadata": {},
   "outputs": [],
   "source": [
    "from SIDIS_Sivers_Data_Generation import *"
   ]
  },
  {
   "cell_type": "code",
   "execution_count": 6,
   "metadata": {},
   "outputs": [],
   "source": [
    "test=Create_SIDIS_P_Data(Dat1,1,1,1,1,1,1,1,1,1,1,1,1,1)[\"Siv\"]"
   ]
  },
  {
   "cell_type": "code",
   "execution_count": 7,
   "metadata": {},
   "outputs": [
    {
     "data": {
      "text/plain": [
       "array([ 0.14030909,  0.12669111,  0.12814184,  0.13923587,  0.16057935,\n",
       "        0.19674397,  0.25586289,  0.08989507,  0.12711037,  0.16087515,\n",
       "        0.19217865,  0.21831109,  0.23217257,  0.23579365,  0.039247  ,\n",
       "        0.07725738,  0.10713432,  0.137436  ,  0.19117169,  0.31642327,\n",
       "        0.70864252,  0.20645806,  0.18037855,  0.17928631,  0.18205504,\n",
       "        0.19730794,  0.23418389,  0.31307483,  0.10517481,  0.14910508,\n",
       "        0.19369108,  0.23333455,  0.25946248,  0.28392367,  0.29579013,\n",
       "        0.04718941,  0.08729441,  0.11915881,  0.15380397,  0.21798489,\n",
       "        0.36649893,  0.8659153 ,  0.2090768 ,  0.17750499,  0.1671453 ,\n",
       "        0.16840069,  0.1788667 ,  0.20359414,  0.2625461 ,  0.10416963,\n",
       "        0.153759  ,  0.20574912,  0.25989157,  0.306846  ,  0.33005431,\n",
       "        0.32587345,  0.04532865,  0.09043696,  0.12797727,  0.16657439,\n",
       "        0.2372906 ,  0.41220415,  1.04699045,  0.04469625,  0.08488934,\n",
       "        0.11058709,  0.13429691,  0.16961067,  0.21444864,  0.28179435,\n",
       "        0.05975557,  0.09871412,  0.1392064 ,  0.18169314,  0.2293758 ,\n",
       "        0.27572444,  0.31667165,  0.03628822,  0.06988274,  0.09681032,\n",
       "        0.1226783 ,  0.16815426,  0.27418278,  0.65359502,  2.32524209,\n",
       "        1.58983829,  1.73073714,  1.96858059, -1.51223533, -0.03414656,\n",
       "        0.20720901, -0.10806686, -0.49070993,  1.73852737,  0.46150612,\n",
       "        0.33759132,  0.30024959,  0.28329592, -0.15838761, -0.59895426,\n",
       "       -2.03190782,  6.82795927,  5.5722205 ,  2.25225822,  2.14414341])"
      ]
     },
     "execution_count": 7,
     "metadata": {},
     "output_type": "execute_result"
    }
   ],
   "source": [
    "np.array(test)"
   ]
  },
  {
   "cell_type": "code",
   "execution_count": 9,
   "metadata": {},
   "outputs": [],
   "source": [
    "from Sivers_SIDIS_Definitions import *\n",
    "\n",
    "m1v = 1\n",
    "Nuv = 1\n",
    "auv = 1\n",
    "buv = 1\n",
    "Nubv = 1\n",
    "Ndv = 1\n",
    "adv = 1\n",
    "bdv = 1\n",
    "Ndbv = 1\n",
    "Nsv = 1\n",
    "asv = 1\n",
    "bsv = 1\n",
    "Nsbv = 1"
   ]
  },
  {
   "cell_type": "code",
   "execution_count": 12,
   "metadata": {},
   "outputs": [
    {
     "data": {
      "text/plain": [
       "7     0.140309\n",
       "8     0.126691\n",
       "9     0.128142\n",
       "10    0.139236\n",
       "11    0.160579\n",
       "12    0.196744\n",
       "13    0.255863\n",
       "dtype: float64"
      ]
     },
     "execution_count": 12,
     "metadata": {},
     "output_type": "execute_result"
    }
   ],
   "source": [
    "Asymmetry_for_Hadron(Dat1,\"pi+\",\"x\",m1=m1v,Nu=Nuv,alphau=auv,betau=buv,Nubar=Nubv,Nd=Ndv,alphad=adv,betad=bdv,Ndbar=Ndbv,Ns=Nsv,alphas=asv,betas=bsv,Nsbar=Nsbv)"
   ]
  },
  {
   "cell_type": "code",
   "execution_count": 13,
   "metadata": {},
   "outputs": [
    {
     "data": {
      "text/plain": [
       "array([0.41188437, 0.52450326, 0.58388133, 0.62876437, 0.62876437,\n",
       "       0.66760789, 0.69498145, 0.6420761 ])"
      ]
     },
     "execution_count": 13,
     "metadata": {},
     "output_type": "execute_result"
    }
   ],
   "source": [
    "SIDIS_xFxQ2(SIDIS_PDFs_HERMES_p_2020,2,\"pi+\",\"x\")"
   ]
  },
  {
   "cell_type": "code",
   "execution_count": null,
   "metadata": {},
   "outputs": [],
   "source": []
  }
 ],
 "metadata": {
  "kernelspec": {
   "display_name": "Python 3",
   "language": "python",
   "name": "python3"
  },
  "language_info": {
   "codemirror_mode": {
    "name": "ipython",
    "version": 3
   },
   "file_extension": ".py",
   "mimetype": "text/x-python",
   "name": "python",
   "nbconvert_exporter": "python",
   "pygments_lexer": "ipython3",
   "version": "3.8.10"
  }
 },
 "nbformat": 4,
 "nbformat_minor": 4
}
