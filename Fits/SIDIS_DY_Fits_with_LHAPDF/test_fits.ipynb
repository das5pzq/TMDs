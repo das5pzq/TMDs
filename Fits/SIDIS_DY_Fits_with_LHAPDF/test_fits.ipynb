{
 "cells": [
  {
   "cell_type": "code",
   "execution_count": 1,
   "metadata": {},
   "outputs": [],
   "source": [
    "import lhapdf\n",
    "import pandas as pd\n",
    "import numpy as np\n",
    "import matplotlib.pyplot as plt\n",
    "import scipy.optimize as opt\n",
    "from Global_Constants import *\n",
    "from Sivers_SIDIS_Definitions import *\n",
    "from Sivers_DY_Definitions import *\n",
    "\n",
    "\n",
    "import Def_1 as SA\n",
    "from iminuit import Minuit\n",
    "import numpy as np\n",
    "#import tabulate as tab"
   ]
  },
  {
   "cell_type": "code",
   "execution_count": null,
   "metadata": {},
   "outputs": [],
   "source": [
    "#print(DYtotalchi2Minuit(m1=1,Nu=1,alphau=1,betau=1,Nubar=1,Nd=1,alphad=1,betad=1,Ndbar=1,Ns=1,alphas=1,betas=1,Nsbar=1))"
   ]
  },
  {
   "cell_type": "code",
   "execution_count": 2,
   "metadata": {},
   "outputs": [
    {
     "name": "stdout",
     "output_type": "stream",
     "text": [
      "['../Data/HERMES_p_2009.csv', '../Data/HERMES_p_2020.csv', '../Data/COMPASS_d_2009.csv', '../Data/COMPASS_p_2015.csv']\n"
     ]
    },
    {
     "data": {
      "text/plain": [
       "4"
      ]
     },
     "execution_count": 2,
     "metadata": {},
     "output_type": "execute_result"
    }
   ],
   "source": [
    "print(SIDIS_DataFilesArray)\n",
    "len(SIDIS_DataFilesArray)"
   ]
  },
  {
   "cell_type": "code",
   "execution_count": 24,
   "metadata": {},
   "outputs": [
    {
     "name": "stderr",
     "output_type": "stream",
     "text": [
      "<ipython-input-24-c6654124e6ad>:16: InitialParamWarning: errordef is not given, defaults to 1.\n",
      "  m = Minuit(SIDIStotalchi2MinuitTest,m1=SA.M1_t2,Nu=SA.NU_t2,alphau=SA.AlphaU_t2,betau=SA.BetaU_t2,Nubar=SA.NUbar_t2,Nd=SA.ND_t2,alphad=SA.AlphaD_t2,betad=SA.BetaD_t2,Ndbar=SA.NDbar_t2,Ns=SA.NS_t2,alphas=SA.AlphaS_t2,betas=SA.BetaS_t2,Nsbar=SA.NSbar_t2)\n"
     ]
    },
    {
     "name": "stdout",
     "output_type": "stream",
     "text": [
      "1353.7639068626688\n"
     ]
    }
   ],
   "source": [
    "### This works! That means the way that SIDIS fitting is handling in the correct way\n",
    "\n",
    "def SIDIStotalchi2MinuitTest(m1,Nu,alphau,betau,Nubar,Nd,alphad,betad,Ndbar,Ns,alphas,betas,Nsbar):\n",
    "    datfilesarray=SIDIS_DataFilesArray\n",
    "    datfilesnum=len(datfilesarray)\n",
    "    temptotal=[]\n",
    "    for i in range(0,datfilesnum):\n",
    "        temptotal.append(SA.totalfitDataSet(datfilesarray[i],m1,Nu,alphau,betau,Nubar,Nd,alphad,betad,Ndbar,Ns,alphas,betas,Nsbar))\n",
    "    tempTheory=np.concatenate((temptotal), axis=None)\n",
    "    tempY=SA.SiversVals(datfilesarray)\n",
    "    tempYErr=SA.SiversErrVals(datfilesarray)\n",
    "    tempChi2=np.sum(((tempY-tempTheory)/tempYErr)**2)\n",
    "    return tempChi2\n",
    "\n",
    "\n",
    "m = Minuit(SIDIStotalchi2MinuitTest,m1=SA.M1_t2,Nu=SA.NU_t2,alphau=SA.AlphaU_t2,betau=SA.BetaU_t2,Nubar=SA.NUbar_t2,Nd=SA.ND_t2,alphad=SA.AlphaD_t2,betad=SA.BetaD_t2,Ndbar=SA.NDbar_t2,Ns=SA.NS_t2,alphas=SA.AlphaS_t2,betas=SA.BetaS_t2,Nsbar=SA.NSbar_t2)\n",
    "#m.migrad()\n",
    "print(SIDIStotalchi2MinuitTest(m1=SA.M1_t2,Nu=SA.NU_t2,alphau=SA.AlphaU_t2,betau=SA.BetaU_t2,Nubar=SA.NUbar_t2,Nd=SA.ND_t2,alphad=SA.AlphaD_t2,betad=SA.BetaD_t2,Ndbar=SA.NDbar_t2,Ns=SA.NS_t2,alphas=SA.AlphaS_t2,betas=SA.BetaS_t2,Nsbar=SA.NSbar_t2))"
   ]
  },
  {
   "cell_type": "code",
   "execution_count": 28,
   "metadata": {},
   "outputs": [
    {
     "name": "stdout",
     "output_type": "stream",
     "text": [
      "13.801837705186273\n"
     ]
    }
   ],
   "source": [
    "def DYtotalchi2MinuitTest(m1,Nu,alphau,betau,Nubar,Nd,alphad,betad,Ndbar,Ns,alphas,betas,Nsbar):\n",
    "    DY_datfilesarray=DY_DataFilesArray\n",
    "    DY_datfilesnum=len(DY_datfilesarray)\n",
    "    temptotal=[]\n",
    "    for i in range(0,DY_datfilesnum):\n",
    "        temptotal.append(DYtotalfitDataSet(DY_datfilesarray[i],m1=m1,Nu=Nu,alphau=alphau,betau=betau,Nubar=Nubar,Nd=Nd,alphad=alphad,betad=betad,Ndbar=Ndbar,Ns=Ns,alphas=alphas,betas=betas,Nsbar=Nsbar))\n",
    "    tempTheory=np.concatenate((temptotal), axis=None)\n",
    "    tempY=DYSiversVals(DY_datfilesarray)\n",
    "    tempYErr=DYSiversErrVals(DY_datfilesarray)\n",
    "    tempChi2=np.sum(((tempY-tempTheory)/tempYErr)**2)\n",
    "    return tempChi2\n",
    "\n",
    "\n",
    "print(DYtotalchi2MinuitTest(m1=SA.M1_t2,Nu=SA.NU_t2,alphau=SA.AlphaU_t2,betau=SA.BetaU_t2,Nubar=SA.NUbar_t2,Nd=SA.ND_t2,alphad=SA.AlphaD_t2,betad=SA.BetaD_t2,Ndbar=SA.NDbar_t2,Ns=SA.NS_t2,alphas=SA.AlphaS_t2,betas=SA.BetaS_t2,Nsbar=SA.NSbar_t2))"
   ]
  },
  {
   "cell_type": "code",
   "execution_count": 22,
   "metadata": {},
   "outputs": [],
   "source": [
    "def SIDIStotalchi2Minuit(**parms):\n",
    "    m1= parms[\"m1\"]\n",
    "    Nu = parms[\"Nu\"]\n",
    "    alphau= parms[\"alphau\"]\n",
    "    betau = parms[\"betau\"]\n",
    "    Nubar = parms[\"Nubar\"]\n",
    "    Nd = parms[\"Nd\"]\n",
    "    alphad= parms[\"alphad\"]\n",
    "    betad = parms[\"betad\"]\n",
    "    Ndbar = parms[\"Ndbar\"]\n",
    "    Ns = parms[\"Ns\"]\n",
    "    alphas= parms[\"alphas\"]\n",
    "    betas = parms[\"betas\"]\n",
    "    Nsbar = parms[\"Nsbar\"]\n",
    "    datfilesarray=SIDIS_DataFilesArray\n",
    "    datfilesnum=len(datfilesarray)\n",
    "    temptotal=[]\n",
    "    for i in range(0,datfilesnum):\n",
    "        temptotal.append(SA.totalfitDataSet(datfilesarray[i],m1,Nu,alphau,betau,Nubar,Nd,alphad,betad,Ndbar,Ns,alphas,betas,Nsbar))\n",
    "    tempTheory=np.concatenate((temptotal), axis=None)\n",
    "    tempY=SA.SiversVals(datfilesarray)\n",
    "    tempYErr=SA.SiversErrVals(datfilesarray)\n",
    "    tempChi2=np.sum(((tempY-tempTheory)/tempYErr)**2)\n",
    "    return tempChi2\n",
    "\n",
    "def DYtotalchi2Minuit(**parms):\n",
    "    m1= parms[\"m1\"]\n",
    "    Nu = parms[\"Nu\"]\n",
    "    alphau= parms[\"alphau\"]\n",
    "    betau = parms[\"betau\"]\n",
    "    Nubar = parms[\"Nubar\"]\n",
    "    Nd = parms[\"Nd\"]\n",
    "    alphad= parms[\"alphad\"]\n",
    "    betad = parms[\"betad\"]\n",
    "    Ndbar = parms[\"Ndbar\"]\n",
    "    Ns = parms[\"Ns\"]\n",
    "    alphas= parms[\"alphas\"]\n",
    "    betas = parms[\"betas\"]\n",
    "    Nsbar = parms[\"Nsbar\"]\n",
    "    DY_datfilesarray=DY_DataFilesArray\n",
    "    DY_datfilesnum=len(DY_datfilesarray)\n",
    "    temptotal=[]\n",
    "    for i in range(0,DY_datfilesnum):\n",
    "        temptotal.append(DYtotalfitDataSet(DY_datfilesarray[i],**parms))\n",
    "    tempTheory=np.concatenate((temptotal), axis=None)\n",
    "    tempY=DYSiversVals(DY_datfilesarray)\n",
    "    tempYErr=DYSiversErrVals(DY_datfilesarray)\n",
    "    tempChi2=np.sum(((tempY-tempTheory)/tempYErr)**2)\n",
    "    return tempChi2\n",
    "\n",
    "\n",
    "def totalchi2Minuit(**parms):\n",
    "    m1= parms[\"m1\"]\n",
    "    Nu = parms[\"Nu\"]\n",
    "    alphau= parms[\"alphau\"]\n",
    "    betau = parms[\"betau\"]\n",
    "    Nubar = parms[\"Nubar\"]\n",
    "    Nd = parms[\"Nd\"]\n",
    "    alphad= parms[\"alphad\"]\n",
    "    betad = parms[\"betad\"]\n",
    "    Ndbar = parms[\"Ndbar\"]\n",
    "    Ns = parms[\"Ns\"]\n",
    "    alphas= parms[\"alphas\"]\n",
    "    betas = parms[\"betas\"]\n",
    "    Nsbar = parms[\"Nsbar\"]\n",
    "    tempchi2=SIDIStotalchi2Minuit(**parms)+ DYtotalchi2Minuit(**parms)\n",
    "    return tempchi2\n",
    "\n",
    "\n",
    "#m = Minuit(totalchi2Minuit,m1=SA.M1_t2,Nu=SA.NU_t2,alphau=SA.AlphaU_t2,betau=SA.BetaU_t2,Nubar=SA.NUbar_t2,Nd=SA.ND_t2,alphad=SA.AlphaD_t2,betad=SA.BetaD_t2,Ndbar=SA.NDbar_t2,Ns=SA.NS_t2,alphas=SA.AlphaS_t2,betas=SA.BetaS_t2,Nsbar=SA.NSbar_t2)\n",
    "#m = Minuit(DYtotalchi2Minuit,m1=SA.M1_t2,Nu=SA.NU_t2,alphau=SA.AlphaU_t2,betau=SA.BetaU_t2,Nubar=SA.NUbar_t2,Nd=SA.ND_t2,alphad=SA.AlphaD_t2,betad=SA.BetaD_t2,Ndbar=SA.NDbar_t2,Ns=SA.NS_t2,alphas=SA.AlphaS_t2,betas=SA.BetaS_t2,Nsbar=SA.NSbar_t2)\n",
    "#m.limits=((2.86,4.6),(.366,.504),(2.21,2.69),(11.8,14.2),(-.1295,-.1109),(-1.19,-.59),(1.48,2.68),(3.9,11.7).(-.34,.14),(5.07,6.45),(.412,.43),(.001,.103),(-.49,.83))\n",
    "#m.migrad()"
   ]
  },
  {
   "cell_type": "code",
   "execution_count": 9,
   "metadata": {},
   "outputs": [
    {
     "name": "stdout",
     "output_type": "stream",
     "text": [
      "6415067.779796682\n"
     ]
    },
    {
     "name": "stderr",
     "output_type": "stream",
     "text": [
      "<__array_function__ internals>:5: VisibleDeprecationWarning: Creating an ndarray from ragged nested sequences (which is a list-or-tuple of lists-or-tuples-or ndarrays with different lengths or shapes) is deprecated. If you meant to do this, you must specify 'dtype=object' when creating the ndarray\n"
     ]
    }
   ],
   "source": [
    "#print(SIDIStotalchi2Minuit(m1=1,Nu=1,alphau=1,betau=1,Nubar=1,Nd=1,alphad=1,betad=1,Ndbar=1,Ns=1,alphas=1,betas=1,Nsbar=1))\n",
    "#print(SA.totalfitDataSet(SIDIS_DataFilesArray[0],m1=1,Nu=1,alphau=1,betau=1,Nubar=1,Nd=1,alphad=1,betad=1,Ndbar=1,Ns=1,alphas=1,betas=1,Nsbar=1))        "
   ]
  },
  {
   "cell_type": "code",
   "execution_count": 14,
   "metadata": {},
   "outputs": [
    {
     "name": "stdout",
     "output_type": "stream",
     "text": [
      "6415082.9638173375\n"
     ]
    }
   ],
   "source": [
    "print(totalchi2Minuit(m1=1,Nu=1,alphau=1,betau=1,Nubar=1,Nd=1,alphad=1,betad=1,Ndbar=1,Ns=1,alphas=1,betas=1,Nsbar=1))"
   ]
  },
  {
   "cell_type": "code",
   "execution_count": 7,
   "metadata": {},
   "outputs": [
    {
     "name": "stdout",
     "output_type": "stream",
     "text": [
      "../Data/HERMES_p_2009.csv\n"
     ]
    }
   ],
   "source": [
    "#print(hadarray(str(SIDIS_DataFilesArray[0])))\n",
    "#print(SIDIS_DataFilesArray[0])"
   ]
  },
  {
   "cell_type": "code",
   "execution_count": 8,
   "metadata": {},
   "outputs": [],
   "source": [
    "#print(DataFilesArray)"
   ]
  },
  {
   "cell_type": "code",
   "execution_count": 18,
   "metadata": {},
   "outputs": [
    {
     "name": "stdout",
     "output_type": "stream",
     "text": [
      "4.4\n"
     ]
    }
   ],
   "source": [
    "print(SA.M1_t2)"
   ]
  },
  {
   "cell_type": "code",
   "execution_count": null,
   "metadata": {},
   "outputs": [
    {
     "name": "stderr",
     "output_type": "stream",
     "text": [
      "<ipython-input-30-1fa2b0982f5b>:30: InitialParamWarning: errordef is not given, defaults to 1.\n",
      "  m = Minuit(totalchi2Minuit,m1=SA.M1_t2,Nu=SA.NU_t2,alphau=SA.AlphaU_t2,betau=SA.BetaU_t2,Nubar=SA.NUbar_t2,Nd=SA.ND_t2,alphad=SA.AlphaD_t2,betad=SA.BetaD_t2,Ndbar=SA.NDbar_t2,Ns=SA.NS_t2,alphas=SA.AlphaS_t2,betas=SA.BetaS_t2,Nsbar=SA.NSbar_t2)\n"
     ]
    }
   ],
   "source": [
    "def SIDIStotalchi2Minuit(m1,Nu,alphau,betau,Nubar,Nd,alphad,betad,Ndbar,Ns,alphas,betas,Nsbar):\n",
    "    datfilesarray=SIDIS_DataFilesArray\n",
    "    datfilesnum=len(datfilesarray)\n",
    "    temptotal=[]\n",
    "    for i in range(0,datfilesnum):\n",
    "        temptotal.append(SA.totalfitDataSet(datfilesarray[i],m1,Nu,alphau,betau,Nubar,Nd,alphad,betad,Ndbar,Ns,alphas,betas,Nsbar))\n",
    "    tempTheory=np.concatenate((temptotal), axis=None)\n",
    "    tempY=SA.SiversVals(datfilesarray)\n",
    "    tempYErr=SA.SiversErrVals(datfilesarray)\n",
    "    tempChi2=np.sum(((tempY-tempTheory)/tempYErr)**2)\n",
    "    return tempChi2\n",
    "\n",
    "\n",
    "def DYtotalchi2MinuitTest(m1,Nu,alphau,betau,Nubar,Nd,alphad,betad,Ndbar,Ns,alphas,betas,Nsbar):\n",
    "    DY_datfilesarray=DY_DataFilesArray\n",
    "    DY_datfilesnum=len(DY_datfilesarray)\n",
    "    temptotal=[]\n",
    "    for i in range(0,DY_datfilesnum):\n",
    "        temptotal.append(DYtotalfitDataSet(DY_datfilesarray[i],m1=m1,Nu=Nu,alphau=alphau,betau=betau,Nubar=Nubar,Nd=Nd,alphad=alphad,betad=betad,Ndbar=Ndbar,Ns=Ns,alphas=alphas,betas=betas,Nsbar=Nsbar))\n",
    "    tempTheory=np.concatenate((temptotal), axis=None)\n",
    "    tempY=DYSiversVals(DY_datfilesarray)\n",
    "    tempYErr=DYSiversErrVals(DY_datfilesarray)\n",
    "    tempChi2=np.sum(((tempY-tempTheory)/tempYErr)**2)\n",
    "    return tempChi2\n",
    "\n",
    "def totalchi2Minuit(m1,Nu,alphau,betau,Nubar,Nd,alphad,betad,Ndbar,Ns,alphas,betas,Nsbar):\n",
    "    tempchi2=SIDIStotalchi2Minuit(m1=m1,Nu=Nu,alphau=alphau,betau=betau,Nubar=Nubar,Nd=Nd,alphad=alphad,betad=betad,Ndbar=Ndbar,Ns=Ns,alphas=alphas,betas=betas,Nsbar=Nsbar)+ DYtotalchi2Minuit(m1=m1,Nu=Nu,alphau=alphau,betau=betau,Nubar=Nubar,Nd=Nd,alphad=alphad,betad=betad,Ndbar=Ndbar,Ns=Ns,alphas=alphas,betas=betas,Nsbar=Nsbar)\n",
    "    return tempchi2\n",
    "\n",
    "m = Minuit(totalchi2Minuit,m1=SA.M1_t2,Nu=SA.NU_t2,alphau=SA.AlphaU_t2,betau=SA.BetaU_t2,Nubar=SA.NUbar_t2,Nd=SA.ND_t2,alphad=SA.AlphaD_t2,betad=SA.BetaD_t2,Ndbar=SA.NDbar_t2,Ns=SA.NS_t2,alphas=SA.AlphaS_t2,betas=SA.BetaS_t2,Nsbar=SA.NSbar_t2)\n",
    "m.migrad()"
   ]
  },
  {
   "cell_type": "code",
   "execution_count": null,
   "metadata": {},
   "outputs": [],
   "source": [
    "m.values()"
   ]
  },
  {
   "cell_type": "code",
   "execution_count": null,
   "metadata": {},
   "outputs": [],
   "source": []
  }
 ],
 "metadata": {
  "kernelspec": {
   "display_name": "Python 3",
   "language": "python",
   "name": "python3"
  },
  "language_info": {
   "codemirror_mode": {
    "name": "ipython",
    "version": 3
   },
   "file_extension": ".py",
   "mimetype": "text/x-python",
   "name": "python",
   "nbconvert_exporter": "python",
   "pygments_lexer": "ipython3",
   "version": "3.8.10"
  }
 },
 "nbformat": 4,
 "nbformat_minor": 4
}
