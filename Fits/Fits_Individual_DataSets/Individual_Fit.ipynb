{
 "cells": [
  {
   "cell_type": "code",
   "execution_count": 15,
   "metadata": {
    "scrolled": false
   },
   "outputs": [],
   "source": [
    "import Def_1 as SA\n",
    "import lhapdf\n",
    "import pandas as pd\n",
    "import numpy as np\n",
    "import matplotlib.pyplot as plt\n",
    "import scipy.optimize as opt\n",
    "\n",
    "Dat1='../../Data/HERMES_p_2009.csv'\n",
    "Dat2='../../Data/HERMES_p_2020.csv'\n",
    "Dat3='../../Data/COMPASS_d_2009.csv'\n",
    "Dat4='../../Data/COMPASS_p_2015.csv'\n",
    "#datfilesarray=[Dat1]\n",
    "DataFilesArray=[Dat1]\n",
    "\n",
    "### Provide a name for the output results file\n",
    "Outfile_name=\"Hermes_2009_curvefit\"\n"
   ]
  },
  {
   "cell_type": "code",
   "execution_count": 6,
   "metadata": {},
   "outputs": [],
   "source": [
    "M1_test=np.sqrt(0.8)\n",
    "\n",
    "AlphaU_test=1.0\n",
    "BetaU_test=6.6\n",
    "AlphaD_test=1.9\n",
    "BetaD_test=10\n",
    "AlphaS_test=0\n",
    "BetaS_test=0\n",
    "\n",
    "NU_test=0.18\n",
    "NUbar_test=-0.01\n",
    "ND_test=-0.52\n",
    "NDbar_test=-0.06\n",
    "NS_test=0\n",
    "NSbar_test=0\n",
    "\n",
    "p0=M1_test,NU_test,AlphaU_test,BetaU_test,NUbar_test,ND_test,AlphaD_test,BetaD_test,NDbar_test,NS_test,AlphaS_test,BetaS_test,NSbar_test\n"
   ]
  },
  {
   "cell_type": "code",
   "execution_count": 7,
   "metadata": {},
   "outputs": [],
   "source": [
    "### This is where I'm trying to do the global fit\n",
    "def totalfitfunc(datfilesarray,m1,Nu,alphau,betau,Nubar,Nd,alphad,betad,Ndbar,Ns,alphas,betas,Nsbar):\n",
    "    datfilesarray=DataFilesArray\n",
    "    datfilesnum=len(datfilesarray)\n",
    "    temptotal=[]\n",
    "    for i in range(0,datfilesnum):\n",
    "        temptotal.append(SA.totalfitDataSet(datfilesarray[i],m1,Nu,alphau,betau,Nubar,Nd,alphad,betad,Ndbar,Ns,alphas,betas,Nsbar))\n",
    "    return np.concatenate((temptotal), axis=None)\n",
    "\n",
    "#theoryH09=totalfitfunc(datfilesarray,*result)\n",
    "def totchi2(y,yhat,err):\n",
    "    tempval=np.sum(((y-yhat)/err)**2)\n",
    "    return tempval"
   ]
  },
  {
   "cell_type": "code",
   "execution_count": 8,
   "metadata": {
    "scrolled": false
   },
   "outputs": [
    {
     "name": "stderr",
     "output_type": "stream",
     "text": [
      "/home/isharauvaubuntu/Documents/TMDs/Copy-from-uva-spin-github/Fits/Def_1.py:115: RuntimeWarning: invalid value encountered in double_scalars\n",
      "  tempNNq = Nq*(x**aq)*((1-x)**(bq))*((aq+bq)**(aq+bq))/((aq**aq)*(bq**bq))\n"
     ]
    }
   ],
   "source": [
    "\n",
    "result, result_cov=opt.curve_fit(totalfitfunc,pd.get_dummies(DataFilesArray),SA.SiversVals(DataFilesArray),p0,sigma=SA.SiversErrVals(DataFilesArray),method='lm')\n",
    "theory=totalfitfunc(DataFilesArray,*result)\n",
    "\n",
    "chi2=totchi2(SA.SiversVals(DataFilesArray),theory,SA.SiversErrVals(DataFilesArray))/len(SA.SiversVals(DataFilesArray))\n",
    "\n",
    "datapoints=len(SA.SiversVals(DataFilesArray))\n"
   ]
  },
  {
   "cell_type": "code",
   "execution_count": 16,
   "metadata": {},
   "outputs": [],
   "source": [
    "f1=open(Outfile_name+\".txt\",\"w\")\n",
    "for i in range(1):\n",
    "    f1.write(\"Result: \\n\")\n",
    "    f1.write(str(result))\n",
    "    f1.write(\"Chi2: \\n\")\n",
    "    f1.write(str(chi2))\n",
    "    f1.write(\"Result_Cov: \\n\")\n",
    "    f1.write(str(result_cov))\n",
    "    f1.write(\"Datapoints \\n\")\n",
    "    f1.write(str(datapoints))\n",
    "f1.close()"
   ]
  },
  {
   "cell_type": "code",
   "execution_count": null,
   "metadata": {},
   "outputs": [],
   "source": []
  },
  {
   "cell_type": "code",
   "execution_count": null,
   "metadata": {},
   "outputs": [],
   "source": []
  }
 ],
 "metadata": {
  "kernelspec": {
   "display_name": "Python 3",
   "language": "python",
   "name": "python3"
  },
  "language_info": {
   "codemirror_mode": {
    "name": "ipython",
    "version": 3
   },
   "file_extension": ".py",
   "mimetype": "text/x-python",
   "name": "python",
   "nbconvert_exporter": "python",
   "pygments_lexer": "ipython3",
   "version": "3.8.10"
  }
 },
 "nbformat": 4,
 "nbformat_minor": 4
}
